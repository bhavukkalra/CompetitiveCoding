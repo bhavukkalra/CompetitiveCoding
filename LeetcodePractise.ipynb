{
 "cells": [
  {
   "cell_type": "code",
   "execution_count": 1,
   "metadata": {},
   "outputs": [
    {
     "ename": "ModuleNotFoundError",
     "evalue": "No module named 'matplotlib'",
     "output_type": "error",
     "traceback": [
      "\u001b[0;31m---------------------------------------------------------------------------\u001b[0m",
      "\u001b[0;31mModuleNotFoundError\u001b[0m                       Traceback (most recent call last)",
      "\u001b[0;32m<ipython-input-1-0484cd13f94d>\u001b[0m in \u001b[0;36m<module>\u001b[0;34m\u001b[0m\n\u001b[0;32m----> 1\u001b[0;31m \u001b[0;32mimport\u001b[0m \u001b[0mmatplotlib\u001b[0m\u001b[0;34m\u001b[0m\u001b[0;34m\u001b[0m\u001b[0m\n\u001b[0m",
      "\u001b[0;31mModuleNotFoundError\u001b[0m: No module named 'matplotlib'"
     ]
    }
   ],
   "source": [
    "import matplotlib\n"
   ]
  },
  {
   "cell_type": "code",
   "execution_count": 2,
   "metadata": {},
   "outputs": [],
   "source": [
    "a = [\"bhavuk\",\"ravi\"]"
   ]
  },
  {
   "cell_type": "code",
   "execution_count": 3,
   "metadata": {},
   "outputs": [
    {
     "data": {
      "text/plain": [
       "'bhavuk'"
      ]
     },
     "execution_count": 3,
     "metadata": {},
     "output_type": "execute_result"
    }
   ],
   "source": [
    "a[0]"
   ]
  },
  {
   "cell_type": "code",
   "execution_count": 7,
   "metadata": {},
   "outputs": [
    {
     "data": {
      "text/plain": [
       "6"
      ]
     },
     "execution_count": 7,
     "metadata": {},
     "output_type": "execute_result"
    }
   ],
   "source": [
    "a[0].__len__()"
   ]
  },
  {
   "cell_type": "code",
   "execution_count": 35,
   "metadata": {},
   "outputs": [
    {
     "name": "stdout",
     "output_type": "stream",
     "text": [
      "0\n"
     ]
    }
   ],
   "source": [
    "# class Solution:\n",
    "#     def longestCommonPrefix(self, strs: List[str]) -> str:\n",
    "#         #taking a corner case\n",
    "#         min_len = strs[0].__len__()\n",
    "#         for i in strs:\n",
    "#             if(strs[i].__len__() < min_len):\n",
    "#                 min_len = strs[i].__len__()\n",
    "            \n",
    "#         mismatch = False\n",
    "#         count = 0\n",
    "#         for i in strs:\n",
    "#             for j in strs:\n",
    "#                 if(strs[j].__len__ )\n",
    "\n",
    "a = [\"\"]\n",
    "b = a[0].__len__()\n",
    "print(b)        "
   ]
  },
  {
   "cell_type": "code",
   "execution_count": 26,
   "metadata": {},
   "outputs": [
    {
     "ename": "SyntaxError",
     "evalue": "unexpected EOF while parsing (<ipython-input-26-f81892842dfb>, line 12)",
     "output_type": "error",
     "traceback": [
      "\u001b[0;36m  File \u001b[0;32m\"<ipython-input-26-f81892842dfb>\"\u001b[0;36m, line \u001b[0;32m12\u001b[0m\n\u001b[0;31m    \u001b[0m\n\u001b[0m    ^\u001b[0m\n\u001b[0;31mSyntaxError\u001b[0m\u001b[0;31m:\u001b[0m unexpected EOF while parsing\n"
     ]
    }
   ],
   "source": [
    "class Solution:\n",
    "     def longestCommonPrefix(self, strs: List[str]) -> str:\n",
    "            if(strs.__len__() == 1):\n",
    "                return strs[0]\n",
    "            \n",
    "            shortest = strs[0].__len__()\n",
    "            for i in strs:\n",
    "                if(i.__len__() < shortest):\n",
    "                    shortest = i.__len__()\n",
    "            #check the corner case if the shortest string is common\n",
    "            \n",
    "            for i in range(strs.__len__() - 1):\n",
    "                if(strs[i][:shortest] == strs[i+1][:shortest] and (i+1) == strs.__len__() - 1):\n",
    "                    \n",
    "                else:\n",
    "                    break\n",
    "            \n",
    "            count = 0\n",
    "            flag = 0\n",
    "            for i in range(shortest):\n",
    "                if(flag == 1):\n",
    "                    break\n",
    "                for j in range(strs.__len__() - 1):\n",
    "                    if(strs[j][i] == strs[j+1][i]):\n",
    "                        flag = 0  #ok\n",
    "                    else:\n",
    "                        flag = 1\n",
    "                        break\n",
    "                    if((j+1) == strs.__len__() - 1):\n",
    "                        count = count + 1\n",
    "            return strs[0][:count]           \n",
    "                \n",
    "            \n",
    "                \n",
    "                    "
   ]
  },
  {
   "cell_type": "code",
   "execution_count": null,
   "metadata": {},
   "outputs": [],
   "source": [
    "class Solution:\n",
    "     def longestCommonPrefix(self, strs: List[str]) -> str:\n",
    "            if(strs.__len__() == 1):\n",
    "                return strs[0]\n",
    "            \n",
    "            short = strs[0].__len__()\n",
    "            for i in strs:\n",
    "                if(i.__len__() < short):\n",
    "                    short = i.__len__()\n",
    "            #check the corner case if the short string is common\n",
    "            \n",
    "            for i in range(strs.__len__() - 1):\n",
    "                if(strs[i][:short] == strs[i+1][:short] and (i+1) == strs.__len__() - 1):\n",
    "                    return strs[0][:short]\n",
    "                    \n",
    "                else:\n",
    "                    break\n",
    "            \n",
    "            count = 0\n",
    "            flag = 0\n",
    "            for i in range(short):\n",
    "                if(flag == 1):\n",
    "                    break\n",
    "                for j in range(strs.__len__() - 1):\n",
    "                    if(strs[j][i] == strs[j+1][i]):\n",
    "                        flag = 0  #ok\n",
    "                    else:\n",
    "                        flag = 1\n",
    "                        break\n",
    "                    if((j+1) == strs.__len__() - 1):\n",
    "                        count = count + 1\n",
    "            return strs[0][:count]           \n",
    "                \n",
    "            \n",
    "                \n",
    "                    "
   ]
  }
 ],
 "metadata": {
  "kernelspec": {
   "display_name": "Python 3",
   "language": "python",
   "name": "python3"
  },
  "language_info": {
   "codemirror_mode": {
    "name": "ipython",
    "version": 3
   },
   "file_extension": ".py",
   "mimetype": "text/x-python",
   "name": "python",
   "nbconvert_exporter": "python",
   "pygments_lexer": "ipython3",
   "version": "3.8.0"
  }
 },
 "nbformat": 4,
 "nbformat_minor": 2
}
